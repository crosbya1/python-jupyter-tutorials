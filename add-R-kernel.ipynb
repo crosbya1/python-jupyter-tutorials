{
 "cells": [
  {
   "cell_type": "markdown",
   "id": "82e6eb3a-fb2a-4eb3-9b9e-fd3193c3d937",
   "metadata": {},
   "source": [
    "## You can add R as a kernel in Jupyter lab using [this](https://www.drdataking.com/post/how-to-add-existing-r-to-jupyter-notebook/) tutorial blog post "
   ]
  },
  {
   "cell_type": "code",
   "execution_count": null,
   "id": "7173b504-6281-405f-a1a5-871427181e7c",
   "metadata": {},
   "outputs": [],
   "source": []
  }
 ],
 "metadata": {
  "kernelspec": {
   "display_name": "R",
   "language": "R",
   "name": "ir"
  },
  "language_info": {
   "codemirror_mode": "r",
   "file_extension": ".r",
   "mimetype": "text/x-r-source",
   "name": "R",
   "pygments_lexer": "r",
   "version": "4.2.2"
  }
 },
 "nbformat": 4,
 "nbformat_minor": 5
}
