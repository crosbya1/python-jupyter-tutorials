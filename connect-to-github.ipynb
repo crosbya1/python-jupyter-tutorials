{
 "cells": [
  {
   "cell_type": "markdown",
   "id": "5e48459b-323b-4205-8ca9-70196fe25d33",
   "metadata": {},
   "source": [
    "## Connect your Jupyter notebooks to GitHub using [this](https://andgarc.github.io/basic-git-jupyter-lesson/index.html) blog post tutorial"
   ]
  }
 ],
 "metadata": {
  "kernelspec": {
   "display_name": "Python 3 (ipykernel)",
   "language": "python",
   "name": "python3"
  },
  "language_info": {
   "codemirror_mode": {
    "name": "ipython",
    "version": 3
   },
   "file_extension": ".py",
   "mimetype": "text/x-python",
   "name": "python",
   "nbconvert_exporter": "python",
   "pygments_lexer": "ipython3",
   "version": "3.9.13"
  }
 },
 "nbformat": 4,
 "nbformat_minor": 5
}
